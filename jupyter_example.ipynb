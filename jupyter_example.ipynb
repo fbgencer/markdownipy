{
 "cells": [
  {
   "cell_type": "code",
   "execution_count": 1,
   "id": "arctic-parks",
   "metadata": {},
   "outputs": [],
   "source": [
    "from markdownipy import markdownipy\n",
    "from IPython.display import display,Markdown\n",
    "\n",
    "md = markdownipy.markdownipy()"
   ]
  },
  {
   "cell_type": "code",
   "execution_count": 2,
   "id": "heard-kansas",
   "metadata": {},
   "outputs": [
    {
     "data": {
      "text/markdown": [
       "![This is library logo](markdownipy_logo.png)\n",
       "\n"
      ],
      "text/plain": [
       "<IPython.core.display.Markdown object>"
      ]
     },
     "metadata": {},
     "output_type": "display_data"
    }
   ],
   "source": [
    "md < (\"markdownipy_logo.png\" | md.image(\"This is library logo\"))\n",
    "display(Markdown(md.print()))\n",
    "md.clear()"
   ]
  },
  {
   "cell_type": "code",
   "execution_count": 3,
   "id": "91207646",
   "metadata": {},
   "outputs": [],
   "source": [
    "md < \"hello there\" | md.bold"
   ]
  },
  {
   "cell_type": "code",
   "execution_count": 4,
   "id": "18a91548",
   "metadata": {},
   "outputs": [
    {
     "data": {
      "text/markdown": [
       "__hello there__\n",
       "\n"
      ],
      "text/plain": [
       "<IPython.core.display.Markdown object>"
      ]
     },
     "metadata": {},
     "output_type": "display_data"
    }
   ],
   "source": [
    "display(Markdown(md.print()))"
   ]
  },
  {
   "cell_type": "code",
   "execution_count": 5,
   "id": "twenty-analysis",
   "metadata": {},
   "outputs": [
    {
     "data": {
      "text/markdown": [
       "__hello there__\n",
       "\n",
       "_This should be a italic text_\n",
       "\n"
      ],
      "text/plain": [
       "<IPython.core.display.Markdown object>"
      ]
     },
     "metadata": {},
     "output_type": "display_data"
    }
   ],
   "source": [
    "md < \"This should be a italic text\" | md.italic\n",
    "display(Markdown(md.print()))"
   ]
  },
  {
   "cell_type": "code",
   "execution_count": 6,
   "id": "according-vision",
   "metadata": {},
   "outputs": [
    {
     "data": {
      "text/markdown": [
       "|x values|x^2|x^3|\n",
       "|:---:|:---:|:---:|\n",
       "|0|0|0|\n",
       "|1|1|1|\n",
       "|2|4|8|\n",
       "|3|9|27|\n",
       "|4|16|64|\n",
       "|5|25|125|\n",
       "|6|36|216|\n",
       "|7|49|343|\n",
       "|8|64|512|\n",
       "|9|81|729|\n",
       "\n"
      ],
      "text/plain": [
       "<IPython.core.display.Markdown object>"
      ]
     },
     "metadata": {},
     "output_type": "display_data"
    }
   ],
   "source": [
    "#Example to create easy markdown tables and print\n",
    "x = [i for i in range(10)]\n",
    "x_square = [i**2 for i in range(10)]\n",
    "x_cube = [i**3 for i in range(10)]\n",
    "\n",
    "md.clear()\n",
    "md < {\n",
    "    \"x values\" : x,\n",
    "    \"x^2\" : x_square,\n",
    "    \"x^3\" : x_cube\n",
    "}\n",
    "display(Markdown(md.print()))"
   ]
  },
  {
   "cell_type": "code",
   "execution_count": 7,
   "id": "centered-accuracy",
   "metadata": {},
   "outputs": [
    {
     "data": {
      "text/markdown": [
       "Some example entries\n",
       "\n",
       "1. Entry-1\n",
       "\n",
       "2. Entry-2\n",
       "\n",
       "3. Entry-3\n",
       "\n",
       "Some example entries with bullet\n",
       "\n",
       "* Entry-1\n",
       "\n",
       "* Entry-2\n",
       "\n",
       "* Entry-3\n",
       "\n"
      ],
      "text/plain": [
       "<IPython.core.display.Markdown object>"
      ]
     },
     "metadata": {},
     "output_type": "display_data"
    }
   ],
   "source": [
    "md.clear()\n",
    "md < \"Some example entries\"\n",
    "md < [\"Entry-1\", \"Entry-2\", \"Entry-3\"]\n",
    "\n",
    "md < \"Some example entries with bullet\"\n",
    "md < [\"*\",\"Entry-1\", \"Entry-2\", \"Entry-3\"]\n",
    "display(Markdown(md.print()))"
   ]
  },
  {
   "cell_type": "code",
   "execution_count": 8,
   "id": "36becf82",
   "metadata": {},
   "outputs": [
    {
     "name": "stdout",
     "output_type": "stream",
     "text": [
      "~~This line should printed with strike~~\n",
      "\n"
     ]
    }
   ],
   "source": [
    "from sys import stdout\n",
    "\n",
    "md.clear() # Now clear the document\n",
    "md < \"This line should printed with strike\" | md.strike\n",
    "md >> stdout # Notice that this put the whole string without markdown format"
   ]
  }
 ],
 "metadata": {
  "interpreter": {
   "hash": "767d51c1340bd893661ea55ea3124f6de3c7a262a8b4abca0554b478b1e2ff90"
  },
  "kernelspec": {
   "display_name": "Python 3",
   "language": "python",
   "name": "python3"
  },
  "language_info": {
   "codemirror_mode": {
    "name": "ipython",
    "version": 3
   },
   "file_extension": ".py",
   "mimetype": "text/x-python",
   "name": "python",
   "nbconvert_exporter": "python",
   "pygments_lexer": "ipython3",
   "version": "3.8.10"
  }
 },
 "nbformat": 4,
 "nbformat_minor": 5
}
